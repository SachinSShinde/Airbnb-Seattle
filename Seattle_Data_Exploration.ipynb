{
 "cells": [
  {
   "cell_type": "markdown",
   "metadata": {},
   "source": [
    "# Exploring the Seattle lifestyle through Airbnb lens"
   ]
  },
  {
   "cell_type": "markdown",
   "metadata": {},
   "source": [
    "Since 2008, guests and hosts have used Airbnb to travel in a more unique, personalized way. As part of the Airbnb Inside initiative, this dataset describes the listing activity of homestays in Seattle, WA"
   ]
  },
  {
   "cell_type": "markdown",
   "metadata": {},
   "source": [
    "This project is divided in 5 sections\n",
    "1. Introduction\n",
    "2. Exploring Date\n",
    "        2.1 The Data\n",
    "3. Exploratory Data Analysis(EDA)\n",
    "        3.1 Describing Features\n",
    "        3.2 Descriptive Figures\n",
    "            3.2.1 Distribution Plots\n",
    "            3.2.2 \n",
    "        3.3 Feature Engineering\n",
    "4. Model Selection\n",
    "        4.1 Data Preparation: Train and Test set\n",
    "        4.2 Model Selection: Logistic Regression\n",
    "5. Actionable Recommendations"
   ]
  },
  {
   "cell_type": "markdown",
   "metadata": {},
   "source": [
    "# 1. Introduction\n",
    "While looking at dataset to explore on Seattle, I looked on [Kaggle](www.kaggle.com) and found [Seattle Airbnb Open Data](https://www.kaggle.com/airbnb/seattle/data) Without any further thinking, I downloaded the dataset and started to explore it.\n",
    "\n",
    "Before I started to explore the dataset,I had three questions in my mind to which I wanted to find answers.\n",
    "1. What are the top 5 factors affecting which cause the rise in rent prices?\n",
    "2. Which is the Peak Season and Off Season to visit Seattle in this year?\n",
    "3. Who are the Top Hosts based on User Reviews and in which neighbourhoods are their properties located?\n",
    "\n",
    "Can you describe the vibe of each Seattle neighborhood using listing descriptions?\n",
    "What are the busiest times of the year to visit Seattle? By how much do prices spike?\n",
    "Is there a general upward trend of both new Airbnb listings and total Airbnb visitors to Seattle?"
   ]
  },
  {
   "cell_type": "code",
   "execution_count": 1,
   "metadata": {},
   "outputs": [],
   "source": [
    "# Importing librairies\n",
    "import numpy as np\n",
    "import pandas as pd\n",
    "import matplotlib as mpl\n",
    "import matplotlib.pyplot as plt\n",
    "import seaborn as sns\n",
    "from datetime import datetime\n",
    "import time\n",
    "from sklearn.model_selection import train_test_split\n",
    "from sklearn.linear_model import LogisticRegression\n",
    "from sklearn.metrics import accuracy_score, precision_score, recall_score, confusion_matrix, make_scorer, fbeta_score\n",
    "from sklearn.preprocessing import MinMaxScaler\n",
    "from sklearn.model_selection import GridSearchCV\n",
    "%matplotlib inline "
   ]
  },
  {
   "cell_type": "code",
   "execution_count": 2,
   "metadata": {},
   "outputs": [],
   "source": [
    "# Importing csv files for initial review\n",
    "# Loading the data\n",
    "df_calendar = pd.read_csv('./calendar.csv')\n",
    "df_listings = pd.read_csv('./listings.csv')\n",
    "df_reviews = pd.read_csv('./reviews.csv')"
   ]
  },
  {
   "cell_type": "code",
   "execution_count": 6,
   "metadata": {
    "scrolled": false
   },
   "outputs": [
    {
     "name": "stdout",
     "output_type": "stream",
     "text": [
      "Shape of Calendar dataset: (1393570, 4)\n",
      "Shape of Listings dataset: (3818, 92)\n",
      "Shape of Reviews dataset: (84849, 6)\n"
     ]
    }
   ],
   "source": [
    "# Checking the shape of datasets\n",
    "print(\"Shape of Calendar dataset:\",df_calendar.shape);\n",
    "print(\"Shape of Listings dataset:\",df_listings.shape);\n",
    "print(\"Shape of Reviews dataset:\",df_reviews.shape);"
   ]
  },
  {
   "cell_type": "code",
   "execution_count": 7,
   "metadata": {},
   "outputs": [
    {
     "data": {
      "text/plain": [
       "1393570"
      ]
     },
     "execution_count": 7,
     "metadata": {},
     "output_type": "execute_result"
    }
   ],
   "source": [
    "df_calendar.shape[0]"
   ]
  },
  {
   "cell_type": "code",
   "execution_count": 6,
   "metadata": {},
   "outputs": [
    {
     "data": {
      "text/plain": [
       "t    934542\n",
       "f    459028\n",
       "Name: available, dtype: int64"
      ]
     },
     "execution_count": 6,
     "metadata": {},
     "output_type": "execute_result"
    }
   ],
   "source": [
    "df.available.value_counts()"
   ]
  },
  {
   "cell_type": "code",
   "execution_count": 7,
   "metadata": {},
   "outputs": [
    {
     "data": {
      "text/plain": [
       "'2017-01-02'"
      ]
     },
     "execution_count": 7,
     "metadata": {},
     "output_type": "execute_result"
    }
   ],
   "source": [
    "df.date.max()"
   ]
  },
  {
   "cell_type": "code",
   "execution_count": 8,
   "metadata": {},
   "outputs": [
    {
     "data": {
      "text/plain": [
       "'2016-01-04'"
      ]
     },
     "execution_count": 8,
     "metadata": {},
     "output_type": "execute_result"
    }
   ],
   "source": [
    "df.date.min()"
   ]
  },
  {
   "cell_type": "code",
   "execution_count": 10,
   "metadata": {},
   "outputs": [
    {
     "data": {
      "image/png": "[encoded data removed]",
      "text/plain": [
       "<Figure size 432x288 with 1 Axes>"
      ]
     },
     "metadata": {
      "needs_background": "light"
     },
     "output_type": "display_data"
    }
   ],
   "source": [
    "plt.hist(df['date'])\n",
    "plt.show()"
   ]
  },
  {
   "cell_type": "code",
   "execution_count": 11,
   "metadata": {},
   "outputs": [
    {
     "data": {
      "text/plain": [
       "365"
      ]
     },
     "execution_count": 11,
     "metadata": {},
     "output_type": "execute_result"
    }
   ],
   "source": [
    "df.date.nunique()"
   ]
  },
  {
   "cell_type": "code",
   "execution_count": 12,
   "metadata": {},
   "outputs": [
    {
     "data": {
      "text/plain": [
       "3818.0"
      ]
     },
     "execution_count": 12,
     "metadata": {},
     "output_type": "execute_result"
    }
   ],
   "source": [
    "df.shape[0]/df.date.nunique()"
   ]
  },
  {
   "cell_type": "code",
   "execution_count": 14,
   "metadata": {},
   "outputs": [
    {
     "data": {
      "text/plain": [
       "0.32938998399793334"
      ]
     },
     "execution_count": 14,
     "metadata": {},
     "output_type": "execute_result"
    }
   ],
   "source": [
    "df.price.isnull().mean()"
   ]
  },
  {
   "cell_type": "code",
   "execution_count": 17,
   "metadata": {},
   "outputs": [
    {
     "data": {
      "text/plain": [
       "3818"
      ]
     },
     "execution_count": 17,
     "metadata": {},
     "output_type": "execute_result"
    }
   ],
   "source": [
    "df.listing_id.nunique()"
   ]
  },
  {
   "cell_type": "code",
   "execution_count": 20,
   "metadata": {},
   "outputs": [
    {
     "data": {
      "text/plain": [
       "(3818, 92)"
      ]
     },
     "execution_count": 20,
     "metadata": {},
     "output_type": "execute_result"
    }
   ],
   "source": [
    "df_listings.shape"
   ]
  },
  {
   "cell_type": "code",
   "execution_count": 21,
   "metadata": {},
   "outputs": [
    {
     "data": {
      "text/plain": [
       "(1393570, 4)"
      ]
     },
     "execution_count": 21,
     "metadata": {},
     "output_type": "execute_result"
    }
   ],
   "source": [
    "df_calendar.shape"
   ]
  },
  {
   "cell_type": "code",
   "execution_count": 22,
   "metadata": {},
   "outputs": [
    {
     "data": {
      "text/plain": [
       "(84849, 6)"
      ]
     },
     "execution_count": 22,
     "metadata": {},
     "output_type": "execute_result"
    }
   ],
   "source": [
    "df_reviews.shape"
   ]
  },
  {
   "cell_type": "code",
   "execution_count": 23,
   "metadata": {
    "scrolled": true
   },
   "outputs": [
    {
     "data": {
      "text/html": [
       "<div>\n",
       "<style scoped>\n",
       "    .dataframe tbody tr th:only-of-type {\n",
       "        vertical-align: middle;\n",
       "    }\n",
       "\n",
       "    .dataframe tbody tr th {\n",
       "        vertical-align: top;\n",
       "    }\n",
       "\n",
       "    .dataframe thead th {\n",
       "        text-align: right;\n",
       "    }\n",
       "</style>\n",
       "<table border=\"1\" class=\"dataframe\">\n",
       "  <thead>\n",
       "    <tr style=\"text-align: right;\">\n",
       "      <th></th>\n",
       "      <th>id</th>\n",
       "      <th>listing_url</th>\n",
       "      <th>scrape_id</th>\n",
       "      <th>last_scraped</th>\n",
       "      <th>name</th>\n",
       "      <th>summary</th>\n",
       "      <th>space</th>\n",
       "      <th>description</th>\n",
       "      <th>experiences_offered</th>\n",
       "      <th>neighborhood_overview</th>\n",
       "      <th>...</th>\n",
       "      <th>review_scores_value</th>\n",
       "      <th>requires_license</th>\n",
       "      <th>license</th>\n",
       "      <th>jurisdiction_names</th>\n",
       "      <th>instant_bookable</th>\n",
       "      <th>cancellation_policy</th>\n",
       "      <th>require_guest_profile_picture</th>\n",
       "      <th>require_guest_phone_verification</th>\n",
       "      <th>calculated_host_listings_count</th>\n",
       "      <th>reviews_per_month</th>\n",
       "    </tr>\n",
       "  </thead>\n",
       "  <tbody>\n",
       "    <tr>\n",
       "      <th>0</th>\n",
       "      <td>241032</td>\n",
       "      <td>https://www.airbnb.com/rooms/241032</td>\n",
       "      <td>20160104002432</td>\n",
       "      <td>2016-01-04</td>\n",
       "      <td>Stylish Queen Anne Apartment</td>\n",
       "      <td>NaN</td>\n",
       "      <td>Make your self at home in this charming one-be...</td>\n",
       "      <td>Make your self at home in this charming one-be...</td>\n",
       "      <td>none</td>\n",
       "      <td>NaN</td>\n",
       "      <td>...</td>\n",
       "      <td>10.0</td>\n",
       "      <td>f</td>\n",
       "      <td>NaN</td>\n",
       "      <td>WASHINGTON</td>\n",
       "      <td>f</td>\n",
       "      <td>moderate</td>\n",
       "      <td>f</td>\n",
       "      <td>f</td>\n",
       "      <td>2</td>\n",
       "      <td>4.07</td>\n",
       "    </tr>\n",
       "    <tr>\n",
       "      <th>1</th>\n",
       "      <td>953595</td>\n",
       "      <td>https://www.airbnb.com/rooms/953595</td>\n",
       "      <td>20160104002432</td>\n",
       "      <td>2016-01-04</td>\n",
       "      <td>Bright &amp; Airy Queen Anne Apartment</td>\n",
       "      <td>Chemically sensitive? We've removed the irrita...</td>\n",
       "      <td>Beautiful, hypoallergenic apartment in an extr...</td>\n",
       "      <td>Chemically sensitive? We've removed the irrita...</td>\n",
       "      <td>none</td>\n",
       "      <td>Queen Anne is a wonderful, truly functional vi...</td>\n",
       "      <td>...</td>\n",
       "      <td>10.0</td>\n",
       "      <td>f</td>\n",
       "      <td>NaN</td>\n",
       "      <td>WASHINGTON</td>\n",
       "      <td>f</td>\n",
       "      <td>strict</td>\n",
       "      <td>t</td>\n",
       "      <td>t</td>\n",
       "      <td>6</td>\n",
       "      <td>1.48</td>\n",
       "    </tr>\n",
       "    <tr>\n",
       "      <th>2</th>\n",
       "      <td>3308979</td>\n",
       "      <td>https://www.airbnb.com/rooms/3308979</td>\n",
       "      <td>20160104002432</td>\n",
       "      <td>2016-01-04</td>\n",
       "      <td>New Modern House-Amazing water view</td>\n",
       "      <td>New modern house built in 2013.  Spectacular s...</td>\n",
       "      <td>Our house is modern, light and fresh with a wa...</td>\n",
       "      <td>New modern house built in 2013.  Spectacular s...</td>\n",
       "      <td>none</td>\n",
       "      <td>Upper Queen Anne is a charming neighborhood fu...</td>\n",
       "      <td>...</td>\n",
       "      <td>10.0</td>\n",
       "      <td>f</td>\n",
       "      <td>NaN</td>\n",
       "      <td>WASHINGTON</td>\n",
       "      <td>f</td>\n",
       "      <td>strict</td>\n",
       "      <td>f</td>\n",
       "      <td>f</td>\n",
       "      <td>2</td>\n",
       "      <td>1.15</td>\n",
       "    </tr>\n",
       "    <tr>\n",
       "      <th>3</th>\n",
       "      <td>7421966</td>\n",
       "      <td>https://www.airbnb.com/rooms/7421966</td>\n",
       "      <td>20160104002432</td>\n",
       "      <td>2016-01-04</td>\n",
       "      <td>Queen Anne Chateau</td>\n",
       "      <td>A charming apartment that sits atop Queen Anne...</td>\n",
       "      <td>NaN</td>\n",
       "      <td>A charming apartment that sits atop Queen Anne...</td>\n",
       "      <td>none</td>\n",
       "      <td>NaN</td>\n",
       "      <td>...</td>\n",
       "      <td>NaN</td>\n",
       "      <td>f</td>\n",
       "      <td>NaN</td>\n",
       "      <td>WASHINGTON</td>\n",
       "      <td>f</td>\n",
       "      <td>flexible</td>\n",
       "      <td>f</td>\n",
       "      <td>f</td>\n",
       "      <td>1</td>\n",
       "      <td>NaN</td>\n",
       "    </tr>\n",
       "    <tr>\n",
       "      <th>4</th>\n",
       "      <td>278830</td>\n",
       "      <td>https://www.airbnb.com/rooms/278830</td>\n",
       "      <td>20160104002432</td>\n",
       "      <td>2016-01-04</td>\n",
       "      <td>Charming craftsman 3 bdm house</td>\n",
       "      <td>Cozy family craftman house in beautiful neighb...</td>\n",
       "      <td>Cozy family craftman house in beautiful neighb...</td>\n",
       "      <td>Cozy family craftman house in beautiful neighb...</td>\n",
       "      <td>none</td>\n",
       "      <td>We are in the beautiful neighborhood of Queen ...</td>\n",
       "      <td>...</td>\n",
       "      <td>9.0</td>\n",
       "      <td>f</td>\n",
       "      <td>NaN</td>\n",
       "      <td>WASHINGTON</td>\n",
       "      <td>f</td>\n",
       "      <td>strict</td>\n",
       "      <td>f</td>\n",
       "      <td>f</td>\n",
       "      <td>1</td>\n",
       "      <td>0.89</td>\n",
       "    </tr>\n",
       "  </tbody>\n",
       "</table>\n",
       "<p>5 rows × 92 columns</p>\n",
       "</div>"
      ],
      "text/plain": [
       "        id                           listing_url       scrape_id last_scraped  \\\n",
       "0   241032   https://www.airbnb.com/rooms/241032  20160104002432   2016-01-04   \n",
       "1   953595   https://www.airbnb.com/rooms/953595  20160104002432   2016-01-04   \n",
       "2  3308979  https://www.airbnb.com/rooms/3308979  20160104002432   2016-01-04   \n",
       "3  7421966  https://www.airbnb.com/rooms/7421966  20160104002432   2016-01-04   \n",
       "4   278830   https://www.airbnb.com/rooms/278830  20160104002432   2016-01-04   \n",
       "\n",
       "                                  name  \\\n",
       "0         Stylish Queen Anne Apartment   \n",
       "1   Bright & Airy Queen Anne Apartment   \n",
       "2  New Modern House-Amazing water view   \n",
       "3                   Queen Anne Chateau   \n",
       "4       Charming craftsman 3 bdm house   \n",
       "\n",
       "                                             summary  \\\n",
       "0                                                NaN   \n",
       "1  Chemically sensitive? We've removed the irrita...   \n",
       "2  New modern house built in 2013.  Spectacular s...   \n",
       "3  A charming apartment that sits atop Queen Anne...   \n",
       "4  Cozy family craftman house in beautiful neighb...   \n",
       "\n",
       "                                               space  \\\n",
       "0  Make your self at home in this charming one-be...   \n",
       "1  Beautiful, hypoallergenic apartment in an extr...   \n",
       "2  Our house is modern, light and fresh with a wa...   \n",
       "3                                                NaN   \n",
       "4  Cozy family craftman house in beautiful neighb...   \n",
       "\n",
       "                                         description experiences_offered  \\\n",
       "0  Make your self at home in this charming one-be...                none   \n",
       "1  Chemically sensitive? We've removed the irrita...                none   \n",
       "2  New modern house built in 2013.  Spectacular s...                none   \n",
       "3  A charming apartment that sits atop Queen Anne...                none   \n",
       "4  Cozy family craftman house in beautiful neighb...                none   \n",
       "\n",
       "                               neighborhood_overview  ... review_scores_value  \\\n",
       "0                                                NaN  ...                10.0   \n",
       "1  Queen Anne is a wonderful, truly functional vi...  ...                10.0   \n",
       "2  Upper Queen Anne is a charming neighborhood fu...  ...                10.0   \n",
       "3                                                NaN  ...                 NaN   \n",
       "4  We are in the beautiful neighborhood of Queen ...  ...                 9.0   \n",
       "\n",
       "  requires_license license jurisdiction_names instant_bookable  \\\n",
       "0                f     NaN         WASHINGTON                f   \n",
       "1                f     NaN         WASHINGTON                f   \n",
       "2                f     NaN         WASHINGTON                f   \n",
       "3                f     NaN         WASHINGTON                f   \n",
       "4                f     NaN         WASHINGTON                f   \n",
       "\n",
       "  cancellation_policy  require_guest_profile_picture  \\\n",
       "0            moderate                              f   \n",
       "1              strict                              t   \n",
       "2              strict                              f   \n",
       "3            flexible                              f   \n",
       "4              strict                              f   \n",
       "\n",
       "  require_guest_phone_verification calculated_host_listings_count  \\\n",
       "0                                f                              2   \n",
       "1                                t                              6   \n",
       "2                                f                              2   \n",
       "3                                f                              1   \n",
       "4                                f                              1   \n",
       "\n",
       "  reviews_per_month  \n",
       "0              4.07  \n",
       "1              1.48  \n",
       "2              1.15  \n",
       "3               NaN  \n",
       "4              0.89  \n",
       "\n",
       "[5 rows x 92 columns]"
      ]
     },
     "execution_count": 23,
     "metadata": {},
     "output_type": "execute_result"
    }
   ],
   "source": [
    "df_listings.head()"
   ]
  },
  {
   "cell_type": "code",
   "execution_count": 24,
   "metadata": {
    "scrolled": true
   },
   "outputs": [
    {
     "data": {
      "text/plain": [
       "['id',\n",
       " 'listing_url',\n",
       " 'scrape_id',\n",
       " 'last_scraped',\n",
       " 'name',\n",
       " 'summary',\n",
       " 'space',\n",
       " 'description',\n",
       " 'experiences_offered',\n",
       " 'neighborhood_overview',\n",
       " 'notes',\n",
       " 'transit',\n",
       " 'thumbnail_url',\n",
       " 'medium_url',\n",
       " 'picture_url',\n",
       " 'xl_picture_url',\n",
       " 'host_id',\n",
       " 'host_url',\n",
       " 'host_name',\n",
       " 'host_since',\n",
       " 'host_location',\n",
       " 'host_about',\n",
       " 'host_response_time',\n",
       " 'host_response_rate',\n",
       " 'host_acceptance_rate',\n",
       " 'host_is_superhost',\n",
       " 'host_thumbnail_url',\n",
       " 'host_picture_url',\n",
       " 'host_neighbourhood',\n",
       " 'host_listings_count',\n",
       " 'host_total_listings_count',\n",
       " 'host_verifications',\n",
       " 'host_has_profile_pic',\n",
       " 'host_identity_verified',\n",
       " 'street',\n",
       " 'neighbourhood',\n",
       " 'neighbourhood_cleansed',\n",
       " 'neighbourhood_group_cleansed',\n",
       " 'city',\n",
       " 'state',\n",
       " 'zipcode',\n",
       " 'market',\n",
       " 'smart_location',\n",
       " 'country_code',\n",
       " 'country',\n",
       " 'latitude',\n",
       " 'longitude',\n",
       " 'is_location_exact',\n",
       " 'property_type',\n",
       " 'room_type',\n",
       " 'accommodates',\n",
       " 'bathrooms',\n",
       " 'bedrooms',\n",
       " 'beds',\n",
       " 'bed_type',\n",
       " 'amenities',\n",
       " 'square_feet',\n",
       " 'price',\n",
       " 'weekly_price',\n",
       " 'monthly_price',\n",
       " 'security_deposit',\n",
       " 'cleaning_fee',\n",
       " 'guests_included',\n",
       " 'extra_people',\n",
       " 'minimum_nights',\n",
       " 'maximum_nights',\n",
       " 'calendar_updated',\n",
       " 'has_availability',\n",
       " 'availability_30',\n",
       " 'availability_60',\n",
       " 'availability_90',\n",
       " 'availability_365',\n",
       " 'calendar_last_scraped',\n",
       " 'number_of_reviews',\n",
       " 'first_review',\n",
       " 'last_review',\n",
       " 'review_scores_rating',\n",
       " 'review_scores_accuracy',\n",
       " 'review_scores_cleanliness',\n",
       " 'review_scores_checkin',\n",
       " 'review_scores_communication',\n",
       " 'review_scores_location',\n",
       " 'review_scores_value',\n",
       " 'requires_license',\n",
       " 'license',\n",
       " 'jurisdiction_names',\n",
       " 'instant_bookable',\n",
       " 'cancellation_policy',\n",
       " 'require_guest_profile_picture',\n",
       " 'require_guest_phone_verification',\n",
       " 'calculated_host_listings_count',\n",
       " 'reviews_per_month']"
      ]
     },
     "execution_count": 24,
     "metadata": {},
     "output_type": "execute_result"
    }
   ],
   "source": [
    "list(df_listings.columns)"
   ]
  },
  {
   "cell_type": "code",
   "execution_count": 27,
   "metadata": {
    "scrolled": true
   },
   "outputs": [
    {
     "data": {
      "text/html": [
       "<div>\n",
       "<style scoped>\n",
       "    .dataframe tbody tr th:only-of-type {\n",
       "        vertical-align: middle;\n",
       "    }\n",
       "\n",
       "    .dataframe tbody tr th {\n",
       "        vertical-align: top;\n",
       "    }\n",
       "\n",
       "    .dataframe thead th {\n",
       "        text-align: right;\n",
       "    }\n",
       "</style>\n",
       "<table border=\"1\" class=\"dataframe\">\n",
       "  <thead>\n",
       "    <tr style=\"text-align: right;\">\n",
       "      <th></th>\n",
       "      <th>id</th>\n",
       "      <th>host_name</th>\n",
       "    </tr>\n",
       "  </thead>\n",
       "  <tbody>\n",
       "    <tr>\n",
       "      <th>0</th>\n",
       "      <td>241032</td>\n",
       "      <td>Maija</td>\n",
       "    </tr>\n",
       "    <tr>\n",
       "      <th>1</th>\n",
       "      <td>953595</td>\n",
       "      <td>Andrea</td>\n",
       "    </tr>\n",
       "    <tr>\n",
       "      <th>2</th>\n",
       "      <td>3308979</td>\n",
       "      <td>Jill</td>\n",
       "    </tr>\n",
       "    <tr>\n",
       "      <th>3</th>\n",
       "      <td>7421966</td>\n",
       "      <td>Emily</td>\n",
       "    </tr>\n",
       "    <tr>\n",
       "      <th>4</th>\n",
       "      <td>278830</td>\n",
       "      <td>Emily</td>\n",
       "    </tr>\n",
       "  </tbody>\n",
       "</table>\n",
       "</div>"
      ],
      "text/plain": [
       "        id host_name\n",
       "0   241032     Maija\n",
       "1   953595    Andrea\n",
       "2  3308979      Jill\n",
       "3  7421966     Emily\n",
       "4   278830     Emily"
      ]
     },
     "execution_count": 27,
     "metadata": {},
     "output_type": "execute_result"
    }
   ],
   "source": [
    "df_listings.loc[:,('id', 'host_name')].head()"
   ]
  },
  {
   "cell_type": "code",
   "execution_count": 28,
   "metadata": {},
   "outputs": [
    {
     "data": {
      "text/plain": [
       "(3818, 92)"
      ]
     },
     "execution_count": 28,
     "metadata": {},
     "output_type": "execute_result"
    }
   ],
   "source": [
    "df_listings.shape"
   ]
  },
  {
   "cell_type": "code",
   "execution_count": 40,
   "metadata": {},
   "outputs": [
    {
     "data": {
      "text/plain": [
       "host_id\n",
       "8534462    46\n",
       "4962900    39\n",
       "1243056    37\n",
       "430709     36\n",
       "3074414    34\n",
       "Name: id, dtype: int64"
      ]
     },
     "execution_count": 40,
     "metadata": {},
     "output_type": "execute_result"
    }
   ],
   "source": [
    "df_listings.groupby(['host_id']).count()['id'].nlargest()"
   ]
  },
  {
   "cell_type": "code",
   "execution_count": 41,
   "metadata": {},
   "outputs": [
    {
     "data": {
      "text/plain": [
       "3818"
      ]
     },
     "execution_count": 41,
     "metadata": {},
     "output_type": "execute_result"
    }
   ],
   "source": [
    "df_listings.shape[0]"
   ]
  },
  {
   "cell_type": "code",
   "execution_count": 66,
   "metadata": {
    "scrolled": true
   },
   "outputs": [
    {
     "data": {
      "text/html": [
       "<div>\n",
       "<style scoped>\n",
       "    .dataframe tbody tr th:only-of-type {\n",
       "        vertical-align: middle;\n",
       "    }\n",
       "\n",
       "    .dataframe tbody tr th {\n",
       "        vertical-align: top;\n",
       "    }\n",
       "\n",
       "    .dataframe thead th {\n",
       "        text-align: right;\n",
       "    }\n",
       "</style>\n",
       "<table border=\"1\" class=\"dataframe\">\n",
       "  <thead>\n",
       "    <tr style=\"text-align: right;\">\n",
       "      <th></th>\n",
       "      <th>id</th>\n",
       "      <th>host_id</th>\n",
       "      <th>host_name</th>\n",
       "      <th>host_location</th>\n",
       "      <th>description</th>\n",
       "    </tr>\n",
       "  </thead>\n",
       "  <tbody>\n",
       "    <tr>\n",
       "      <th>1077</th>\n",
       "      <td>3380159</td>\n",
       "      <td>8534462</td>\n",
       "      <td>Daniela</td>\n",
       "      <td>Seattle, Washington, United States</td>\n",
       "      <td>With a 100% Walk-Score, this spacious 1BD apar...</td>\n",
       "    </tr>\n",
       "    <tr>\n",
       "      <th>1149</th>\n",
       "      <td>6913706</td>\n",
       "      <td>8534462</td>\n",
       "      <td>Daniela</td>\n",
       "      <td>Seattle, Washington, United States</td>\n",
       "      <td>98 Walkscore unit on a high floor right downto...</td>\n",
       "    </tr>\n",
       "    <tr>\n",
       "      <th>1152</th>\n",
       "      <td>9885225</td>\n",
       "      <td>8534462</td>\n",
       "      <td>Daniela</td>\n",
       "      <td>Seattle, Washington, United States</td>\n",
       "      <td>98 Walkscore Penthouse unit on the top floor, ...</td>\n",
       "    </tr>\n",
       "    <tr>\n",
       "      <th>1155</th>\n",
       "      <td>6990477</td>\n",
       "      <td>8534462</td>\n",
       "      <td>Daniela</td>\n",
       "      <td>Seattle, Washington, United States</td>\n",
       "      <td>98 Walkscore unit on a high floor right downto...</td>\n",
       "    </tr>\n",
       "    <tr>\n",
       "      <th>1159</th>\n",
       "      <td>7840228</td>\n",
       "      <td>8534462</td>\n",
       "      <td>Daniela</td>\n",
       "      <td>Seattle, Washington, United States</td>\n",
       "      <td>98 Walkscore Penthouse unit on the top floor, ...</td>\n",
       "    </tr>\n",
       "    <tr>\n",
       "      <th>1230</th>\n",
       "      <td>6766708</td>\n",
       "      <td>8534462</td>\n",
       "      <td>Daniela</td>\n",
       "      <td>Seattle, Washington, United States</td>\n",
       "      <td>With an unbeatable 100 Walkscore, this luxurio...</td>\n",
       "    </tr>\n",
       "    <tr>\n",
       "      <th>1237</th>\n",
       "      <td>5874421</td>\n",
       "      <td>8534462</td>\n",
       "      <td>Daniela</td>\n",
       "      <td>Seattle, Washington, United States</td>\n",
       "      <td>Right at the heart of Seattle's fastest-growin...</td>\n",
       "    </tr>\n",
       "    <tr>\n",
       "      <th>1238</th>\n",
       "      <td>8829474</td>\n",
       "      <td>8534462</td>\n",
       "      <td>Daniela</td>\n",
       "      <td>Seattle, Washington, United States</td>\n",
       "      <td>*Clear View of New Year's Eve Space Needle Fir...</td>\n",
       "    </tr>\n",
       "    <tr>\n",
       "      <th>1278</th>\n",
       "      <td>4569115</td>\n",
       "      <td>8534462</td>\n",
       "      <td>Daniela</td>\n",
       "      <td>Seattle, Washington, United States</td>\n",
       "      <td>Comfortable 2Bed in Belltown. Close to the Spa...</td>\n",
       "    </tr>\n",
       "    <tr>\n",
       "      <th>1298</th>\n",
       "      <td>9497431</td>\n",
       "      <td>8534462</td>\n",
       "      <td>Daniela</td>\n",
       "      <td>Seattle, Washington, United States</td>\n",
       "      <td>Best place to ring in the new year with the *b...</td>\n",
       "    </tr>\n",
       "    <tr>\n",
       "      <th>1312</th>\n",
       "      <td>8891577</td>\n",
       "      <td>8534462</td>\n",
       "      <td>Daniela</td>\n",
       "      <td>Seattle, Washington, United States</td>\n",
       "      <td>Remarkable space and location. Just under 2000...</td>\n",
       "    </tr>\n",
       "    <tr>\n",
       "      <th>1323</th>\n",
       "      <td>8815061</td>\n",
       "      <td>8534462</td>\n",
       "      <td>Daniela</td>\n",
       "      <td>Seattle, Washington, United States</td>\n",
       "      <td>*Clear View of New Year's Eve Space Needle Fir...</td>\n",
       "    </tr>\n",
       "    <tr>\n",
       "      <th>1340</th>\n",
       "      <td>8815638</td>\n",
       "      <td>8534462</td>\n",
       "      <td>Daniela</td>\n",
       "      <td>Seattle, Washington, United States</td>\n",
       "      <td>*Clear View of New Year's Eve Space Needle Fir...</td>\n",
       "    </tr>\n",
       "    <tr>\n",
       "      <th>1366</th>\n",
       "      <td>9886971</td>\n",
       "      <td>8534462</td>\n",
       "      <td>Daniela</td>\n",
       "      <td>Seattle, Washington, United States</td>\n",
       "      <td>98 Walkscore Penthouse unit on the top floor, ...</td>\n",
       "    </tr>\n",
       "    <tr>\n",
       "      <th>1376</th>\n",
       "      <td>8829472</td>\n",
       "      <td>8534462</td>\n",
       "      <td>Daniela</td>\n",
       "      <td>Seattle, Washington, United States</td>\n",
       "      <td>*Clear View of New Year's Eve Space Needle Fir...</td>\n",
       "    </tr>\n",
       "    <tr>\n",
       "      <th>1377</th>\n",
       "      <td>5183938</td>\n",
       "      <td>8534462</td>\n",
       "      <td>Daniela</td>\n",
       "      <td>Seattle, Washington, United States</td>\n",
       "      <td>Right at the heart of Seattle's fastest-growin...</td>\n",
       "    </tr>\n",
       "    <tr>\n",
       "      <th>1400</th>\n",
       "      <td>2392869</td>\n",
       "      <td>8534462</td>\n",
       "      <td>Daniela</td>\n",
       "      <td>Seattle, Washington, United States</td>\n",
       "      <td>Fantastic Views &amp; Location. See our other loca...</td>\n",
       "    </tr>\n",
       "    <tr>\n",
       "      <th>1404</th>\n",
       "      <td>1601714</td>\n",
       "      <td>8534462</td>\n",
       "      <td>Daniela</td>\n",
       "      <td>Seattle, Washington, United States</td>\n",
       "      <td>This one bed apt is on the border of downtown ...</td>\n",
       "    </tr>\n",
       "    <tr>\n",
       "      <th>1424</th>\n",
       "      <td>9031119</td>\n",
       "      <td>8534462</td>\n",
       "      <td>Daniela</td>\n",
       "      <td>Seattle, Washington, United States</td>\n",
       "      <td>Right at the heart of Seattle's fastest-growin...</td>\n",
       "    </tr>\n",
       "    <tr>\n",
       "      <th>1460</th>\n",
       "      <td>7506165</td>\n",
       "      <td>8534462</td>\n",
       "      <td>Daniela</td>\n",
       "      <td>Seattle, Washington, United States</td>\n",
       "      <td>Located 3 blocks from the first Starbucks, Pik...</td>\n",
       "    </tr>\n",
       "    <tr>\n",
       "      <th>1466</th>\n",
       "      <td>3891695</td>\n",
       "      <td>8534462</td>\n",
       "      <td>Daniela</td>\n",
       "      <td>Seattle, Washington, United States</td>\n",
       "      <td>Nice apartment right on Pike's Place market wi...</td>\n",
       "    </tr>\n",
       "    <tr>\n",
       "      <th>1469</th>\n",
       "      <td>8805211</td>\n",
       "      <td>8534462</td>\n",
       "      <td>Daniela</td>\n",
       "      <td>Seattle, Washington, United States</td>\n",
       "      <td>Amazing 1 Bedroom suite located in the heart o...</td>\n",
       "    </tr>\n",
       "    <tr>\n",
       "      <th>1478</th>\n",
       "      <td>7510776</td>\n",
       "      <td>8534462</td>\n",
       "      <td>Daniela</td>\n",
       "      <td>Seattle, Washington, United States</td>\n",
       "      <td>Located 3 blocks from the first Starbucks, Pik...</td>\n",
       "    </tr>\n",
       "    <tr>\n",
       "      <th>1481</th>\n",
       "      <td>9183380</td>\n",
       "      <td>8534462</td>\n",
       "      <td>Daniela</td>\n",
       "      <td>Seattle, Washington, United States</td>\n",
       "      <td>Amazing 2 Bedroom 2 bath located in the heart ...</td>\n",
       "    </tr>\n",
       "    <tr>\n",
       "      <th>1482</th>\n",
       "      <td>9201292</td>\n",
       "      <td>8534462</td>\n",
       "      <td>Daniela</td>\n",
       "      <td>Seattle, Washington, United States</td>\n",
       "      <td>Amazing 1 Bedroom suite located in the heart o...</td>\n",
       "    </tr>\n",
       "    <tr>\n",
       "      <th>1500</th>\n",
       "      <td>4009508</td>\n",
       "      <td>8534462</td>\n",
       "      <td>Daniela</td>\n",
       "      <td>Seattle, Washington, United States</td>\n",
       "      <td>Amazing 2 Bedroom apartment located in the hea...</td>\n",
       "    </tr>\n",
       "    <tr>\n",
       "      <th>1519</th>\n",
       "      <td>3971934</td>\n",
       "      <td>8534462</td>\n",
       "      <td>Daniela</td>\n",
       "      <td>Seattle, Washington, United States</td>\n",
       "      <td>With a 98% Walk-Score, and 100% transit score,...</td>\n",
       "    </tr>\n",
       "    <tr>\n",
       "      <th>1532</th>\n",
       "      <td>9024838</td>\n",
       "      <td>8534462</td>\n",
       "      <td>Daniela</td>\n",
       "      <td>Seattle, Washington, United States</td>\n",
       "      <td>Amazing 2 Bedroom 2 bath located in the heart ...</td>\n",
       "    </tr>\n",
       "    <tr>\n",
       "      <th>1537</th>\n",
       "      <td>1954452</td>\n",
       "      <td>8534462</td>\n",
       "      <td>Daniela</td>\n",
       "      <td>Seattle, Washington, United States</td>\n",
       "      <td>The building is right on the border of Capitol...</td>\n",
       "    </tr>\n",
       "    <tr>\n",
       "      <th>1548</th>\n",
       "      <td>5213468</td>\n",
       "      <td>8534462</td>\n",
       "      <td>Daniela</td>\n",
       "      <td>Seattle, Washington, United States</td>\n",
       "      <td>Just a few blocks away from Pike's place marke...</td>\n",
       "    </tr>\n",
       "    <tr>\n",
       "      <th>1557</th>\n",
       "      <td>3868138</td>\n",
       "      <td>8534462</td>\n",
       "      <td>Daniela</td>\n",
       "      <td>Seattle, Washington, United States</td>\n",
       "      <td>Located just 4 blocks from Pike's Place Market...</td>\n",
       "    </tr>\n",
       "    <tr>\n",
       "      <th>1559</th>\n",
       "      <td>6807981</td>\n",
       "      <td>8534462</td>\n",
       "      <td>Daniela</td>\n",
       "      <td>Seattle, Washington, United States</td>\n",
       "      <td>Pike's Place 100 Walkscore Junior Suite. This ...</td>\n",
       "    </tr>\n",
       "    <tr>\n",
       "      <th>1575</th>\n",
       "      <td>5372156</td>\n",
       "      <td>8534462</td>\n",
       "      <td>Daniela</td>\n",
       "      <td>Seattle, Washington, United States</td>\n",
       "      <td>Modern 1 Bedroom apartment in a modern newly r...</td>\n",
       "    </tr>\n",
       "    <tr>\n",
       "      <th>1606</th>\n",
       "      <td>9318524</td>\n",
       "      <td>8534462</td>\n",
       "      <td>Daniela</td>\n",
       "      <td>Seattle, Washington, United States</td>\n",
       "      <td>Near Swedish, the Convention Center, Downtown,...</td>\n",
       "    </tr>\n",
       "    <tr>\n",
       "      <th>1613</th>\n",
       "      <td>3803947</td>\n",
       "      <td>8534462</td>\n",
       "      <td>Daniela</td>\n",
       "      <td>Seattle, Washington, United States</td>\n",
       "      <td>Modern 1 Bedroom apartment in a modern newly r...</td>\n",
       "    </tr>\n",
       "    <tr>\n",
       "      <th>1631</th>\n",
       "      <td>2825852</td>\n",
       "      <td>8534462</td>\n",
       "      <td>Daniela</td>\n",
       "      <td>Seattle, Washington, United States</td>\n",
       "      <td>Calendar Pricing  Amazing 1Bed apartment on a ...</td>\n",
       "    </tr>\n",
       "    <tr>\n",
       "      <th>1637</th>\n",
       "      <td>9318440</td>\n",
       "      <td>8534462</td>\n",
       "      <td>Daniela</td>\n",
       "      <td>Seattle, Washington, United States</td>\n",
       "      <td>On the Border of Cap Hill and First Hill, clos...</td>\n",
       "    </tr>\n",
       "    <tr>\n",
       "      <th>1645</th>\n",
       "      <td>4410544</td>\n",
       "      <td>8534462</td>\n",
       "      <td>Daniela</td>\n",
       "      <td>Seattle, Washington, United States</td>\n",
       "      <td>Our cool and comfortable 2BD suite is next to ...</td>\n",
       "    </tr>\n",
       "    <tr>\n",
       "      <th>1652</th>\n",
       "      <td>9530877</td>\n",
       "      <td>8534462</td>\n",
       "      <td>Daniela</td>\n",
       "      <td>Seattle, Washington, United States</td>\n",
       "      <td>Near Swedish Hospital, the Convention Center, ...</td>\n",
       "    </tr>\n",
       "    <tr>\n",
       "      <th>1654</th>\n",
       "      <td>9530788</td>\n",
       "      <td>8534462</td>\n",
       "      <td>Daniela</td>\n",
       "      <td>Seattle, Washington, United States</td>\n",
       "      <td>Near Swedish, the Convention Center, Downtown,...</td>\n",
       "    </tr>\n",
       "    <tr>\n",
       "      <th>1657</th>\n",
       "      <td>4031625</td>\n",
       "      <td>8534462</td>\n",
       "      <td>Daniela</td>\n",
       "      <td>Seattle, Washington, United States</td>\n",
       "      <td>Modern 1 Bedroom apartment in a modern newly r...</td>\n",
       "    </tr>\n",
       "    <tr>\n",
       "      <th>1660</th>\n",
       "      <td>4106041</td>\n",
       "      <td>8534462</td>\n",
       "      <td>Daniela</td>\n",
       "      <td>Seattle, Washington, United States</td>\n",
       "      <td>Modern 1 Bedroom apartment in a modern newly r...</td>\n",
       "    </tr>\n",
       "    <tr>\n",
       "      <th>1667</th>\n",
       "      <td>6807884</td>\n",
       "      <td>8534462</td>\n",
       "      <td>Daniela</td>\n",
       "      <td>Seattle, Washington, United States</td>\n",
       "      <td>The building is right on the border of Capitol...</td>\n",
       "    </tr>\n",
       "    <tr>\n",
       "      <th>1695</th>\n",
       "      <td>4008373</td>\n",
       "      <td>8534462</td>\n",
       "      <td>Daniela</td>\n",
       "      <td>Seattle, Washington, United States</td>\n",
       "      <td>Just a few blocks away from Pike's place marke...</td>\n",
       "    </tr>\n",
       "    <tr>\n",
       "      <th>2748</th>\n",
       "      <td>2004931</td>\n",
       "      <td>8534462</td>\n",
       "      <td>Daniela</td>\n",
       "      <td>Seattle, Washington, United States</td>\n",
       "      <td>97 Walkscore!! Our favorite area in cap hill w...</td>\n",
       "    </tr>\n",
       "    <tr>\n",
       "      <th>2892</th>\n",
       "      <td>4009295</td>\n",
       "      <td>8534462</td>\n",
       "      <td>Daniela</td>\n",
       "      <td>Seattle, Washington, United States</td>\n",
       "      <td>A newly renovated and very spacious and comfor...</td>\n",
       "    </tr>\n",
       "  </tbody>\n",
       "</table>\n",
       "</div>"
      ],
      "text/plain": [
       "           id  host_id host_name                       host_location  \\\n",
       "1077  3380159  8534462   Daniela  Seattle, Washington, United States   \n",
       "1149  6913706  8534462   Daniela  Seattle, Washington, United States   \n",
       "1152  9885225  8534462   Daniela  Seattle, Washington, United States   \n",
       "1155  6990477  8534462   Daniela  Seattle, Washington, United States   \n",
       "1159  7840228  8534462   Daniela  Seattle, Washington, United States   \n",
       "1230  6766708  8534462   Daniela  Seattle, Washington, United States   \n",
       "1237  5874421  8534462   Daniela  Seattle, Washington, United States   \n",
       "1238  8829474  8534462   Daniela  Seattle, Washington, United States   \n",
       "1278  4569115  8534462   Daniela  Seattle, Washington, United States   \n",
       "1298  9497431  8534462   Daniela  Seattle, Washington, United States   \n",
       "1312  8891577  8534462   Daniela  Seattle, Washington, United States   \n",
       "1323  8815061  8534462   Daniela  Seattle, Washington, United States   \n",
       "1340  8815638  8534462   Daniela  Seattle, Washington, United States   \n",
       "1366  9886971  8534462   Daniela  Seattle, Washington, United States   \n",
       "1376  8829472  8534462   Daniela  Seattle, Washington, United States   \n",
       "1377  5183938  8534462   Daniela  Seattle, Washington, United States   \n",
       "1400  2392869  8534462   Daniela  Seattle, Washington, United States   \n",
       "1404  1601714  8534462   Daniela  Seattle, Washington, United States   \n",
       "1424  9031119  8534462   Daniela  Seattle, Washington, United States   \n",
       "1460  7506165  8534462   Daniela  Seattle, Washington, United States   \n",
       "1466  3891695  8534462   Daniela  Seattle, Washington, United States   \n",
       "1469  8805211  8534462   Daniela  Seattle, Washington, United States   \n",
       "1478  7510776  8534462   Daniela  Seattle, Washington, United States   \n",
       "1481  9183380  8534462   Daniela  Seattle, Washington, United States   \n",
       "1482  9201292  8534462   Daniela  Seattle, Washington, United States   \n",
       "1500  4009508  8534462   Daniela  Seattle, Washington, United States   \n",
       "1519  3971934  8534462   Daniela  Seattle, Washington, United States   \n",
       "1532  9024838  8534462   Daniela  Seattle, Washington, United States   \n",
       "1537  1954452  8534462   Daniela  Seattle, Washington, United States   \n",
       "1548  5213468  8534462   Daniela  Seattle, Washington, United States   \n",
       "1557  3868138  8534462   Daniela  Seattle, Washington, United States   \n",
       "1559  6807981  8534462   Daniela  Seattle, Washington, United States   \n",
       "1575  5372156  8534462   Daniela  Seattle, Washington, United States   \n",
       "1606  9318524  8534462   Daniela  Seattle, Washington, United States   \n",
       "1613  3803947  8534462   Daniela  Seattle, Washington, United States   \n",
       "1631  2825852  8534462   Daniela  Seattle, Washington, United States   \n",
       "1637  9318440  8534462   Daniela  Seattle, Washington, United States   \n",
       "1645  4410544  8534462   Daniela  Seattle, Washington, United States   \n",
       "1652  9530877  8534462   Daniela  Seattle, Washington, United States   \n",
       "1654  9530788  8534462   Daniela  Seattle, Washington, United States   \n",
       "1657  4031625  8534462   Daniela  Seattle, Washington, United States   \n",
       "1660  4106041  8534462   Daniela  Seattle, Washington, United States   \n",
       "1667  6807884  8534462   Daniela  Seattle, Washington, United States   \n",
       "1695  4008373  8534462   Daniela  Seattle, Washington, United States   \n",
       "2748  2004931  8534462   Daniela  Seattle, Washington, United States   \n",
       "2892  4009295  8534462   Daniela  Seattle, Washington, United States   \n",
       "\n",
       "                                            description  \n",
       "1077  With a 100% Walk-Score, this spacious 1BD apar...  \n",
       "1149  98 Walkscore unit on a high floor right downto...  \n",
       "1152  98 Walkscore Penthouse unit on the top floor, ...  \n",
       "1155  98 Walkscore unit on a high floor right downto...  \n",
       "1159  98 Walkscore Penthouse unit on the top floor, ...  \n",
       "1230  With an unbeatable 100 Walkscore, this luxurio...  \n",
       "1237  Right at the heart of Seattle's fastest-growin...  \n",
       "1238  *Clear View of New Year's Eve Space Needle Fir...  \n",
       "1278  Comfortable 2Bed in Belltown. Close to the Spa...  \n",
       "1298  Best place to ring in the new year with the *b...  \n",
       "1312  Remarkable space and location. Just under 2000...  \n",
       "1323  *Clear View of New Year's Eve Space Needle Fir...  \n",
       "1340  *Clear View of New Year's Eve Space Needle Fir...  \n",
       "1366  98 Walkscore Penthouse unit on the top floor, ...  \n",
       "1376  *Clear View of New Year's Eve Space Needle Fir...  \n",
       "1377  Right at the heart of Seattle's fastest-growin...  \n",
       "1400  Fantastic Views & Location. See our other loca...  \n",
       "1404  This one bed apt is on the border of downtown ...  \n",
       "1424  Right at the heart of Seattle's fastest-growin...  \n",
       "1460  Located 3 blocks from the first Starbucks, Pik...  \n",
       "1466  Nice apartment right on Pike's Place market wi...  \n",
       "1469  Amazing 1 Bedroom suite located in the heart o...  \n",
       "1478  Located 3 blocks from the first Starbucks, Pik...  \n",
       "1481  Amazing 2 Bedroom 2 bath located in the heart ...  \n",
       "1482  Amazing 1 Bedroom suite located in the heart o...  \n",
       "1500  Amazing 2 Bedroom apartment located in the hea...  \n",
       "1519  With a 98% Walk-Score, and 100% transit score,...  \n",
       "1532  Amazing 2 Bedroom 2 bath located in the heart ...  \n",
       "1537  The building is right on the border of Capitol...  \n",
       "1548  Just a few blocks away from Pike's place marke...  \n",
       "1557  Located just 4 blocks from Pike's Place Market...  \n",
       "1559  Pike's Place 100 Walkscore Junior Suite. This ...  \n",
       "1575  Modern 1 Bedroom apartment in a modern newly r...  \n",
       "1606  Near Swedish, the Convention Center, Downtown,...  \n",
       "1613  Modern 1 Bedroom apartment in a modern newly r...  \n",
       "1631  Calendar Pricing  Amazing 1Bed apartment on a ...  \n",
       "1637  On the Border of Cap Hill and First Hill, clos...  \n",
       "1645  Our cool and comfortable 2BD suite is next to ...  \n",
       "1652  Near Swedish Hospital, the Convention Center, ...  \n",
       "1654  Near Swedish, the Convention Center, Downtown,...  \n",
       "1657  Modern 1 Bedroom apartment in a modern newly r...  \n",
       "1660  Modern 1 Bedroom apartment in a modern newly r...  \n",
       "1667  The building is right on the border of Capitol...  \n",
       "1695  Just a few blocks away from Pike's place marke...  \n",
       "2748  97 Walkscore!! Our favorite area in cap hill w...  \n",
       "2892  A newly renovated and very spacious and comfor...  "
      ]
     },
     "execution_count": 66,
     "metadata": {},
     "output_type": "execute_result"
    }
   ],
   "source": [
    "df_listings.loc[df_listings.host_id == 8534462, (['id', 'host_id', 'host_name', 'host_location', 'description'])]"
   ]
  },
  {
   "cell_type": "code",
   "execution_count": 47,
   "metadata": {},
   "outputs": [
    {
     "data": {
      "text/plain": [
       "0      956883\n",
       "1     5177328\n",
       "2    16708587\n",
       "3     9851441\n",
       "4     1452570\n",
       "Name: host_id, dtype: int64"
      ]
     },
     "execution_count": 47,
     "metadata": {},
     "output_type": "execute_result"
    }
   ],
   "source": [
    "df_listings['host_id'].head()"
   ]
  },
  {
   "cell_type": "code",
   "execution_count": 64,
   "metadata": {},
   "outputs": [
    {
     "data": {
      "text/plain": [
       "Seattle, Washington, United States          3259\n",
       "US                                           246\n",
       "Spokane, Washington, United States            41\n",
       "Kent, Washington, United States               34\n",
       "Los Angeles, California, United States        13\n",
       "Bellevue, Washington, United States           12\n",
       "San Francisco, California, United States      11\n",
       "Mercer Island, Washington, United States      10\n",
       "Kirkland, Washington, United States            8\n",
       "New York, New York, United States              6\n",
       "Name: host_location, dtype: int64"
      ]
     },
     "execution_count": 64,
     "metadata": {},
     "output_type": "execute_result"
    }
   ],
   "source": [
    "df_listings['host_location'].value_counts().head(10)"
   ]
  },
  {
   "cell_type": "code",
   "execution_count": 72,
   "metadata": {},
   "outputs": [
    {
     "data": {
      "text/plain": [
       "id                                                               3380159\n",
       "listing_url                         https://www.airbnb.com/rooms/3380159\n",
       "scrape_id                                                 20160104002432\n",
       "last_scraped                                                  2016-01-04\n",
       "name                                         Pike's Place. 100 Walkscore\n",
       "                                                    ...                 \n",
       "cancellation_policy                                               strict\n",
       "require_guest_profile_picture                                          t\n",
       "require_guest_phone_verification                                       t\n",
       "calculated_host_listings_count                                         3\n",
       "reviews_per_month                                                   2.71\n",
       "Name: 1077, Length: 92, dtype: object"
      ]
     },
     "execution_count": 72,
     "metadata": {},
     "output_type": "execute_result"
    }
   ],
   "source": [
    "df_listings.loc[1077,:]"
   ]
  },
  {
   "cell_type": "code",
   "execution_count": 74,
   "metadata": {},
   "outputs": [
    {
     "data": {
      "text/plain": [
       "8534462    46\n",
       "4962900    39\n",
       "1243056    37\n",
       "430709     36\n",
       "3074414    34\n",
       "Name: host_id, dtype: int64"
      ]
     },
     "execution_count": 74,
     "metadata": {},
     "output_type": "execute_result"
    }
   ],
   "source": [
    "df_listings['host_id'].value_counts().nlargest()"
   ]
  },
  {
   "cell_type": "code",
   "execution_count": 77,
   "metadata": {
    "scrolled": true
   },
   "outputs": [
    {
     "data": {
      "text/html": [
       "<div>\n",
       "<style scoped>\n",
       "    .dataframe tbody tr th:only-of-type {\n",
       "        vertical-align: middle;\n",
       "    }\n",
       "\n",
       "    .dataframe tbody tr th {\n",
       "        vertical-align: top;\n",
       "    }\n",
       "\n",
       "    .dataframe thead th {\n",
       "        text-align: right;\n",
       "    }\n",
       "</style>\n",
       "<table border=\"1\" class=\"dataframe\">\n",
       "  <thead>\n",
       "    <tr style=\"text-align: right;\">\n",
       "      <th></th>\n",
       "      <th>id</th>\n",
       "      <th>listing_url</th>\n",
       "      <th>scrape_id</th>\n",
       "      <th>last_scraped</th>\n",
       "      <th>name</th>\n",
       "      <th>summary</th>\n",
       "      <th>space</th>\n",
       "      <th>description</th>\n",
       "      <th>experiences_offered</th>\n",
       "      <th>neighborhood_overview</th>\n",
       "      <th>...</th>\n",
       "      <th>review_scores_value</th>\n",
       "      <th>requires_license</th>\n",
       "      <th>license</th>\n",
       "      <th>jurisdiction_names</th>\n",
       "      <th>instant_bookable</th>\n",
       "      <th>cancellation_policy</th>\n",
       "      <th>require_guest_profile_picture</th>\n",
       "      <th>require_guest_phone_verification</th>\n",
       "      <th>calculated_host_listings_count</th>\n",
       "      <th>reviews_per_month</th>\n",
       "    </tr>\n",
       "  </thead>\n",
       "  <tbody>\n",
       "    <tr>\n",
       "      <th>3</th>\n",
       "      <td>7421966</td>\n",
       "      <td>https://www.airbnb.com/rooms/7421966</td>\n",
       "      <td>20160104002432</td>\n",
       "      <td>2016-01-04</td>\n",
       "      <td>Queen Anne Chateau</td>\n",
       "      <td>A charming apartment that sits atop Queen Anne...</td>\n",
       "      <td>NaN</td>\n",
       "      <td>A charming apartment that sits atop Queen Anne...</td>\n",
       "      <td>none</td>\n",
       "      <td>NaN</td>\n",
       "      <td>...</td>\n",
       "      <td>NaN</td>\n",
       "      <td>f</td>\n",
       "      <td>NaN</td>\n",
       "      <td>WASHINGTON</td>\n",
       "      <td>f</td>\n",
       "      <td>flexible</td>\n",
       "      <td>f</td>\n",
       "      <td>f</td>\n",
       "      <td>1</td>\n",
       "      <td>NaN</td>\n",
       "    </tr>\n",
       "  </tbody>\n",
       "</table>\n",
       "<p>1 rows × 92 columns</p>\n",
       "</div>"
      ],
      "text/plain": [
       "        id                           listing_url       scrape_id last_scraped  \\\n",
       "3  7421966  https://www.airbnb.com/rooms/7421966  20160104002432   2016-01-04   \n",
       "\n",
       "                 name                                            summary  \\\n",
       "3  Queen Anne Chateau  A charming apartment that sits atop Queen Anne...   \n",
       "\n",
       "  space                                        description  \\\n",
       "3   NaN  A charming apartment that sits atop Queen Anne...   \n",
       "\n",
       "  experiences_offered neighborhood_overview  ... review_scores_value  \\\n",
       "3                none                   NaN  ...                 NaN   \n",
       "\n",
       "  requires_license license jurisdiction_names instant_bookable  \\\n",
       "3                f     NaN         WASHINGTON                f   \n",
       "\n",
       "  cancellation_policy  require_guest_profile_picture  \\\n",
       "3            flexible                              f   \n",
       "\n",
       "  require_guest_phone_verification calculated_host_listings_count  \\\n",
       "3                                f                              1   \n",
       "\n",
       "  reviews_per_month  \n",
       "3               NaN  \n",
       "\n",
       "[1 rows x 92 columns]"
      ]
     },
     "execution_count": 77,
     "metadata": {},
     "output_type": "execute_result"
    }
   ],
   "source": [
    "df_listings[df_listings.id == 7421966]"
   ]
  },
  {
   "cell_type": "markdown",
   "metadata": {},
   "source": []
  },
  {
   "cell_type": "markdown",
   "metadata": {},
   "source": []
  },
  {
   "cell_type": "code",
   "execution_count": null,
   "metadata": {},
   "outputs": [],
   "source": []
  }
 ],
 "metadata": {
  "kernelspec": {
   "display_name": "Python 3",
   "language": "python",
   "name": "python3"
  },
  "language_info": {
   "codemirror_mode": {
    "name": "ipython",
    "version": 3
   },
   "file_extension": ".py",
   "mimetype": "text/x-python",
   "name": "python",
   "nbconvert_exporter": "python",
   "pygments_lexer": "ipython3",
   "version": "3.7.7"
  }
 },
 "nbformat": 4,
 "nbformat_minor": 4
}
